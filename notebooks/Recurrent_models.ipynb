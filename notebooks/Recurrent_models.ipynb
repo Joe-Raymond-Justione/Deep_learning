{
 "cells": [
  {
   "cell_type": "markdown",
   "metadata": {},
   "source": [
    "# Import Packages"
   ]
  },
  {
   "cell_type": "code",
   "execution_count": 40,
   "metadata": {},
   "outputs": [],
   "source": [
    "import pandas as pd\n",
    "from sklearn.preprocessing import StandardScaler\n",
    "import tensorflow as tf\n",
    "from tensorflow import keras\n",
    "from tensorflow.keras.models import Model, Sequential\n",
    "from tensorflow.keras.layers import Input, LSTM, Dense, Dropout, SimpleRNN, GRU\n",
    "from tensorflow.keras.utils import timeseries_dataset_from_array\n"
   ]
  },
  {
   "cell_type": "markdown",
   "metadata": {},
   "source": [
    "# Load Data"
   ]
  },
  {
   "cell_type": "code",
   "execution_count": 41,
   "metadata": {},
   "outputs": [],
   "source": [
    "# Load the data\n",
    "raw_data = pd.read_csv('proc_data_train.csv')\n"
   ]
  },
  {
   "cell_type": "markdown",
   "metadata": {},
   "source": [
    "# Preprocessing data"
   ]
  },
  {
   "cell_type": "code",
   "execution_count": 42,
   "metadata": {},
   "outputs": [],
   "source": [
    "# Creating Defect Categoical attribute\n",
    "raw_data['Defect'] = (raw_data['perc_defects_Sidewall'] > 0.02).astype(int)\n",
    "\n",
    "#Drop unnessacary columns\n",
    "data = raw_data.drop(['final_time', 'reference', 'production', 'rejected_Sidewall', 'total_Sidewall'], axis=1)\n",
    "data['initial_time'] = pd.to_datetime(data['initial_time'])\n",
    "\n",
    "#Create dummy variables for categorical attributes\n",
    "data[['cavity', 'section']] = data[['cavity', 'section']].astype('category')\n",
    "dummy_variables = pd.get_dummies(data[['cavity', 'section']], drop_first=True).astype(int)\n",
    "\n",
    "#rejoin the dummy variables to the data\n",
    "data = pd.concat([data, dummy_variables], axis=1)\n",
    "data = data.drop(['cavity', 'section'], axis=1)\n",
    "\n"
   ]
  },
  {
   "cell_type": "code",
   "execution_count": 43,
   "metadata": {},
   "outputs": [],
   "source": [
    "# Prepare the data for the GRU model\n",
    "data = data.drop(['initial_time'], axis=1)\n",
    "features = data.drop(['perc_defects_Sidewall', 'Defect'], axis=1)\n",
    "target_regression = data['perc_defects_Sidewall']\n",
    "target_classification = data['Defect']\n",
    "\n",
    "scaler = StandardScaler()\n",
    "features_scaled = scaler.fit_transform(features)\n"
   ]
  },
  {
   "cell_type": "markdown",
   "metadata": {},
   "source": [
    "# Data Split"
   ]
  },
  {
   "cell_type": "code",
   "execution_count": 44,
   "metadata": {},
   "outputs": [],
   "source": [
    "# Split the data: 80% train, 10% validation, 10% holdout\n",
    "train_size = int(0.8 * len(features_scaled))\n",
    "val_size = int(0.1 * len(features_scaled))\n",
    "\n",
    "features_train = features_scaled[:train_size]\n",
    "features_val = features_scaled[train_size:train_size + val_size]\n",
    "features_holdout = features_scaled[train_size + val_size:]\n",
    "\n",
    "target_reg_train = target_regression[:train_size]\n",
    "target_reg_val = target_regression[train_size:train_size + val_size]\n",
    "target_reg_holdout = target_regression[train_size + val_size:]\n",
    "\n",
    "target_class_train = target_classification[:train_size]\n",
    "target_class_val = target_classification[train_size:train_size + val_size]\n",
    "target_class_holdout = target_classification[train_size + val_size:]\n"
   ]
  },
  {
   "cell_type": "markdown",
   "metadata": {},
   "source": [
    "# Creation of Timeseries datasets"
   ]
  },
  {
   "cell_type": "code",
   "execution_count": 45,
   "metadata": {},
   "outputs": [],
   "source": [
    "\n",
    "sampling_rate = 1  \n",
    "sequence_length = 50  \n",
    "batch_size = 124\n",
    "\n",
    "# Create time series datasets\n",
    "def create_timeseries_dataset(features, target_reg, target_class, sequence_length, batch_size):\n",
    "    inputs = timeseries_dataset_from_array(\n",
    "        features,\n",
    "        None,\n",
    "        sequence_length=sequence_length,\n",
    "        batch_size=batch_size,\n",
    "        shuffle=False\n",
    "    )\n",
    "\n",
    "    targets_reg = timeseries_dataset_from_array(\n",
    "        target_reg[sequence_length - 1:],\n",
    "        None,\n",
    "        sequence_length=1,\n",
    "        batch_size=batch_size,\n",
    "        shuffle=False\n",
    "    )\n",
    "\n",
    "    targets_class = timeseries_dataset_from_array(\n",
    "        target_class[sequence_length - 1:],\n",
    "        None,\n",
    "        sequence_length=1,\n",
    "        batch_size=batch_size,\n",
    "        shuffle=False\n",
    "    )\n",
    "\n",
    "    dataset = tf.data.Dataset.zip((inputs, tf.data.Dataset.zip((targets_reg, targets_class))))\n",
    "    return dataset\n",
    "\n",
    "train_dataset = create_timeseries_dataset(features_train, target_reg_train, target_class_train, sequence_length, batch_size)\n",
    "validation_dataset = create_timeseries_dataset(features_val, target_reg_val, target_class_val, sequence_length, batch_size)\n",
    "holdout_dataset = create_timeseries_dataset(features_holdout, target_reg_holdout, target_class_holdout, sequence_length, batch_size)\n"
   ]
  },
  {
   "cell_type": "markdown",
   "metadata": {},
   "source": [
    "# Models"
   ]
  },
  {
   "cell_type": "markdown",
   "metadata": {},
   "source": [
    "## LSTM"
   ]
  },
  {
   "cell_type": "code",
   "execution_count": 48,
   "metadata": {},
   "outputs": [
    {
     "data": {
      "text/html": [
       "<pre style=\"white-space:pre;overflow-x:auto;line-height:normal;font-family:Menlo,'DejaVu Sans Mono',consolas,'Courier New',monospace\"><span style=\"font-weight: bold\">Model: \"functional_41\"</span>\n",
       "</pre>\n"
      ],
      "text/plain": [
       "\u001b[1mModel: \"functional_41\"\u001b[0m\n"
      ]
     },
     "metadata": {},
     "output_type": "display_data"
    },
    {
     "data": {
      "text/html": [
       "<pre style=\"white-space:pre;overflow-x:auto;line-height:normal;font-family:Menlo,'DejaVu Sans Mono',consolas,'Courier New',monospace\">┏━━━━━━━━━━━━━━━━━━━━━┳━━━━━━━━━━━━━━━━━━━┳━━━━━━━━━━━━┳━━━━━━━━━━━━━━━━━━━┓\n",
       "┃<span style=\"font-weight: bold\"> Layer (type)        </span>┃<span style=\"font-weight: bold\"> Output Shape      </span>┃<span style=\"font-weight: bold\">    Param # </span>┃<span style=\"font-weight: bold\"> Connected to      </span>┃\n",
       "┡━━━━━━━━━━━━━━━━━━━━━╇━━━━━━━━━━━━━━━━━━━╇━━━━━━━━━━━━╇━━━━━━━━━━━━━━━━━━━┩\n",
       "│ input_layer_27      │ (<span style=\"color: #00d7ff; text-decoration-color: #00d7ff\">None</span>, <span style=\"color: #00af00; text-decoration-color: #00af00\">50</span>, <span style=\"color: #00af00; text-decoration-color: #00af00\">241</span>)   │          <span style=\"color: #00af00; text-decoration-color: #00af00\">0</span> │ -                 │\n",
       "│ (<span style=\"color: #0087ff; text-decoration-color: #0087ff\">InputLayer</span>)        │                   │            │                   │\n",
       "├─────────────────────┼───────────────────┼────────────┼───────────────────┤\n",
       "│ sequential_13       │ (<span style=\"color: #00d7ff; text-decoration-color: #00d7ff\">None</span>, <span style=\"color: #00af00; text-decoration-color: #00af00\">64</span>)        │    <span style=\"color: #00af00; text-decoration-color: #00af00\">111,360</span> │ input_layer_27[<span style=\"color: #00af00; text-decoration-color: #00af00\">0</span>… │\n",
       "│ (<span style=\"color: #0087ff; text-decoration-color: #0087ff\">Sequential</span>)        │                   │            │                   │\n",
       "├─────────────────────┼───────────────────┼────────────┼───────────────────┤\n",
       "│ regression_output   │ (<span style=\"color: #00d7ff; text-decoration-color: #00d7ff\">None</span>, <span style=\"color: #00af00; text-decoration-color: #00af00\">1</span>)         │         <span style=\"color: #00af00; text-decoration-color: #00af00\">65</span> │ sequential_13[<span style=\"color: #00af00; text-decoration-color: #00af00\">0</span>]… │\n",
       "│ (<span style=\"color: #0087ff; text-decoration-color: #0087ff\">Dense</span>)             │                   │            │                   │\n",
       "├─────────────────────┼───────────────────┼────────────┼───────────────────┤\n",
       "│ classification_out… │ (<span style=\"color: #00d7ff; text-decoration-color: #00d7ff\">None</span>, <span style=\"color: #00af00; text-decoration-color: #00af00\">1</span>)         │         <span style=\"color: #00af00; text-decoration-color: #00af00\">65</span> │ sequential_13[<span style=\"color: #00af00; text-decoration-color: #00af00\">0</span>]… │\n",
       "│ (<span style=\"color: #0087ff; text-decoration-color: #0087ff\">Dense</span>)             │                   │            │                   │\n",
       "└─────────────────────┴───────────────────┴────────────┴───────────────────┘\n",
       "</pre>\n"
      ],
      "text/plain": [
       "┏━━━━━━━━━━━━━━━━━━━━━┳━━━━━━━━━━━━━━━━━━━┳━━━━━━━━━━━━┳━━━━━━━━━━━━━━━━━━━┓\n",
       "┃\u001b[1m \u001b[0m\u001b[1mLayer (type)       \u001b[0m\u001b[1m \u001b[0m┃\u001b[1m \u001b[0m\u001b[1mOutput Shape     \u001b[0m\u001b[1m \u001b[0m┃\u001b[1m \u001b[0m\u001b[1m   Param #\u001b[0m\u001b[1m \u001b[0m┃\u001b[1m \u001b[0m\u001b[1mConnected to     \u001b[0m\u001b[1m \u001b[0m┃\n",
       "┡━━━━━━━━━━━━━━━━━━━━━╇━━━━━━━━━━━━━━━━━━━╇━━━━━━━━━━━━╇━━━━━━━━━━━━━━━━━━━┩\n",
       "│ input_layer_27      │ (\u001b[38;5;45mNone\u001b[0m, \u001b[38;5;34m50\u001b[0m, \u001b[38;5;34m241\u001b[0m)   │          \u001b[38;5;34m0\u001b[0m │ -                 │\n",
       "│ (\u001b[38;5;33mInputLayer\u001b[0m)        │                   │            │                   │\n",
       "├─────────────────────┼───────────────────┼────────────┼───────────────────┤\n",
       "│ sequential_13       │ (\u001b[38;5;45mNone\u001b[0m, \u001b[38;5;34m64\u001b[0m)        │    \u001b[38;5;34m111,360\u001b[0m │ input_layer_27[\u001b[38;5;34m0\u001b[0m… │\n",
       "│ (\u001b[38;5;33mSequential\u001b[0m)        │                   │            │                   │\n",
       "├─────────────────────┼───────────────────┼────────────┼───────────────────┤\n",
       "│ regression_output   │ (\u001b[38;5;45mNone\u001b[0m, \u001b[38;5;34m1\u001b[0m)         │         \u001b[38;5;34m65\u001b[0m │ sequential_13[\u001b[38;5;34m0\u001b[0m]… │\n",
       "│ (\u001b[38;5;33mDense\u001b[0m)             │                   │            │                   │\n",
       "├─────────────────────┼───────────────────┼────────────┼───────────────────┤\n",
       "│ classification_out… │ (\u001b[38;5;45mNone\u001b[0m, \u001b[38;5;34m1\u001b[0m)         │         \u001b[38;5;34m65\u001b[0m │ sequential_13[\u001b[38;5;34m0\u001b[0m]… │\n",
       "│ (\u001b[38;5;33mDense\u001b[0m)             │                   │            │                   │\n",
       "└─────────────────────┴───────────────────┴────────────┴───────────────────┘\n"
      ]
     },
     "metadata": {},
     "output_type": "display_data"
    },
    {
     "data": {
      "text/html": [
       "<pre style=\"white-space:pre;overflow-x:auto;line-height:normal;font-family:Menlo,'DejaVu Sans Mono',consolas,'Courier New',monospace\"><span style=\"font-weight: bold\"> Total params: </span><span style=\"color: #00af00; text-decoration-color: #00af00\">111,490</span> (435.51 KB)\n",
       "</pre>\n"
      ],
      "text/plain": [
       "\u001b[1m Total params: \u001b[0m\u001b[38;5;34m111,490\u001b[0m (435.51 KB)\n"
      ]
     },
     "metadata": {},
     "output_type": "display_data"
    },
    {
     "data": {
      "text/html": [
       "<pre style=\"white-space:pre;overflow-x:auto;line-height:normal;font-family:Menlo,'DejaVu Sans Mono',consolas,'Courier New',monospace\"><span style=\"font-weight: bold\"> Trainable params: </span><span style=\"color: #00af00; text-decoration-color: #00af00\">111,490</span> (435.51 KB)\n",
       "</pre>\n"
      ],
      "text/plain": [
       "\u001b[1m Trainable params: \u001b[0m\u001b[38;5;34m111,490\u001b[0m (435.51 KB)\n"
      ]
     },
     "metadata": {},
     "output_type": "display_data"
    },
    {
     "data": {
      "text/html": [
       "<pre style=\"white-space:pre;overflow-x:auto;line-height:normal;font-family:Menlo,'DejaVu Sans Mono',consolas,'Courier New',monospace\"><span style=\"font-weight: bold\"> Non-trainable params: </span><span style=\"color: #00af00; text-decoration-color: #00af00\">0</span> (0.00 B)\n",
       "</pre>\n"
      ],
      "text/plain": [
       "\u001b[1m Non-trainable params: \u001b[0m\u001b[38;5;34m0\u001b[0m (0.00 B)\n"
      ]
     },
     "metadata": {},
     "output_type": "display_data"
    },
    {
     "name": "stdout",
     "output_type": "stream",
     "text": [
      "Epoch 1/10\n",
      "\u001b[1m1544/1544\u001b[0m \u001b[32m━━━━━━━━━━━━━━━━━━━━\u001b[0m\u001b[37m\u001b[0m \u001b[1m257s\u001b[0m 164ms/step - classification_output_auc_13: 0.6005 - classification_output_binary_accuracy: 0.8053 - loss: 0.4960 - regression_output_mean_squared_error: 0.0122 - val_classification_output_auc_13: 0.6049 - val_classification_output_binary_accuracy: 0.8295 - val_loss: 0.4473 - val_regression_output_mean_squared_error: 4.1443e-04\n",
      "Epoch 2/10\n",
      "\u001b[1m1544/1544\u001b[0m \u001b[32m━━━━━━━━━━━━━━━━━━━━\u001b[0m\u001b[37m\u001b[0m \u001b[1m313s\u001b[0m 202ms/step - classification_output_auc_13: 0.6475 - classification_output_binary_accuracy: 0.8116 - loss: 0.4641 - regression_output_mean_squared_error: 5.0975e-04 - val_classification_output_auc_13: 0.6147 - val_classification_output_binary_accuracy: 0.8271 - val_loss: 0.4426 - val_regression_output_mean_squared_error: 3.4137e-04\n",
      "Epoch 3/10\n",
      "\u001b[1m1544/1544\u001b[0m \u001b[32m━━━━━━━━━━━━━━━━━━━━\u001b[0m\u001b[37m\u001b[0m \u001b[1m298s\u001b[0m 193ms/step - classification_output_auc_13: 0.6833 - classification_output_binary_accuracy: 0.8160 - loss: 0.4488 - regression_output_mean_squared_error: 3.9407e-04 - val_classification_output_auc_13: 0.6121 - val_classification_output_binary_accuracy: 0.8239 - val_loss: 0.4497 - val_regression_output_mean_squared_error: 3.3983e-04\n",
      "Epoch 4/10\n",
      "\u001b[1m1544/1544\u001b[0m \u001b[32m━━━━━━━━━━━━━━━━━━━━\u001b[0m\u001b[37m\u001b[0m \u001b[1m285s\u001b[0m 184ms/step - classification_output_auc_13: 0.7046 - classification_output_binary_accuracy: 0.8212 - loss: 0.4381 - regression_output_mean_squared_error: 3.6036e-04 - val_classification_output_auc_13: 0.6200 - val_classification_output_binary_accuracy: 0.8251 - val_loss: 0.4481 - val_regression_output_mean_squared_error: 2.8807e-04\n",
      "Epoch 5/10\n",
      "\u001b[1m1544/1544\u001b[0m \u001b[32m━━━━━━━━━━━━━━━━━━━━\u001b[0m\u001b[37m\u001b[0m \u001b[1m256s\u001b[0m 166ms/step - classification_output_auc_13: 0.7184 - classification_output_binary_accuracy: 0.8258 - loss: 0.4291 - regression_output_mean_squared_error: 3.4845e-04 - val_classification_output_auc_13: 0.6235 - val_classification_output_binary_accuracy: 0.8254 - val_loss: 0.4442 - val_regression_output_mean_squared_error: 2.8373e-04\n",
      "Epoch 6/10\n",
      "\u001b[1m1544/1544\u001b[0m \u001b[32m━━━━━━━━━━━━━━━━━━━━\u001b[0m\u001b[37m\u001b[0m \u001b[1m253s\u001b[0m 164ms/step - classification_output_auc_13: 0.7400 - classification_output_binary_accuracy: 0.8275 - loss: 0.4192 - regression_output_mean_squared_error: 3.4997e-04 - val_classification_output_auc_13: 0.6193 - val_classification_output_binary_accuracy: 0.8254 - val_loss: 0.4481 - val_regression_output_mean_squared_error: 2.9348e-04\n",
      "Epoch 7/10\n",
      "\u001b[1m1544/1544\u001b[0m \u001b[32m━━━━━━━━━━━━━━━━━━━━\u001b[0m\u001b[37m\u001b[0m \u001b[1m280s\u001b[0m 182ms/step - classification_output_auc_13: 0.7492 - classification_output_binary_accuracy: 0.8304 - loss: 0.4139 - regression_output_mean_squared_error: 3.4104e-04 - val_classification_output_auc_13: 0.6250 - val_classification_output_binary_accuracy: 0.8246 - val_loss: 0.4530 - val_regression_output_mean_squared_error: 2.9084e-04\n",
      "Epoch 8/10\n",
      "\u001b[1m1544/1544\u001b[0m \u001b[32m━━━━━━━━━━━━━━━━━━━━\u001b[0m\u001b[37m\u001b[0m \u001b[1m286s\u001b[0m 185ms/step - classification_output_auc_13: 0.7604 - classification_output_binary_accuracy: 0.8326 - loss: 0.4075 - regression_output_mean_squared_error: 3.3872e-04 - val_classification_output_auc_13: 0.6118 - val_classification_output_binary_accuracy: 0.8136 - val_loss: 0.4659 - val_regression_output_mean_squared_error: 2.8530e-04\n",
      "Epoch 9/10\n",
      "\u001b[1m1544/1544\u001b[0m \u001b[32m━━━━━━━━━━━━━━━━━━━━\u001b[0m\u001b[37m\u001b[0m \u001b[1m283s\u001b[0m 184ms/step - classification_output_auc_13: 0.7753 - classification_output_binary_accuracy: 0.8356 - loss: 0.3992 - regression_output_mean_squared_error: 3.3608e-04 - val_classification_output_auc_13: 0.6228 - val_classification_output_binary_accuracy: 0.8169 - val_loss: 0.4585 - val_regression_output_mean_squared_error: 2.8740e-04\n",
      "Epoch 10/10\n",
      "\u001b[1m1544/1544\u001b[0m \u001b[32m━━━━━━━━━━━━━━━━━━━━\u001b[0m\u001b[37m\u001b[0m \u001b[1m311s\u001b[0m 202ms/step - classification_output_auc_13: 0.7914 - classification_output_binary_accuracy: 0.8386 - loss: 0.3882 - regression_output_mean_squared_error: 3.2154e-04 - val_classification_output_auc_13: 0.6222 - val_classification_output_binary_accuracy: 0.8155 - val_loss: 0.4690 - val_regression_output_mean_squared_error: 2.9102e-04\n"
     ]
    }
   ],
   "source": [
    "# Build the LSTM model\n",
    "input_shape = (sequence_length, features_train.shape[1])\n",
    "\n",
    "base_model = Sequential([\n",
    "    LSTM(64, return_sequences=True, input_shape=(input_shape)),\n",
    "    Dropout(0.5),\n",
    "    LSTM(64, return_sequences=False),\n",
    "    Dropout(0.25)\n",
    "])\n",
    "\n",
    "inputs = Input(shape=input_shape)\n",
    "\n",
    "x= base_model(inputs)\n",
    "regression_output = Dense(1, name='regression_output')(x)\n",
    "classification_output = Dense(1, activation='sigmoid', name='classification_output')(x)\n",
    "\n",
    "model_lstm = Model(inputs=inputs, outputs=[regression_output, classification_output])\n",
    "model_lstm.compile(optimizer='adam', \n",
    "              loss={'regression_output': 'mean_squared_error', 'classification_output': 'binary_crossentropy'},\n",
    "              metrics={'regression_output': 'mean_squared_error', 'classification_output': [tf.keras.metrics.BinaryAccuracy(), tf.keras.metrics.AUC()]})\n",
    "\n",
    "model_lstm.summary()\n",
    "\n",
    "callbacks = [ keras.callbacks.EarlyStopping(patience=5, restore_best_weights=True, monitor=\"val_loss\") ]\n",
    "\n",
    "# Train the model\n",
    "history_lstm = model_lstm.fit(\n",
    "    train_dataset,\n",
    "    epochs=10,\n",
    "    validation_data=validation_dataset#,\n",
    "    callbacks=callbacks\n",
    ")\n",
    "\n"
   ]
  },
  {
   "cell_type": "markdown",
   "metadata": {},
   "source": [
    "## RRN"
   ]
  },
  {
   "cell_type": "code",
   "execution_count": 49,
   "metadata": {},
   "outputs": [
    {
     "name": "stderr",
     "output_type": "stream",
     "text": [
      "c:\\Users\\Naik2\\Desktop\\Portugal\\Uni\\APA\\apa\\lib\\site-packages\\keras\\src\\layers\\rnn\\rnn.py:204: UserWarning: Do not pass an `input_shape`/`input_dim` argument to a layer. When using Sequential models, prefer using an `Input(shape)` object as the first layer in the model instead.\n",
      "  super().__init__(**kwargs)\n"
     ]
    },
    {
     "data": {
      "text/html": [
       "<pre style=\"white-space:pre;overflow-x:auto;line-height:normal;font-family:Menlo,'DejaVu Sans Mono',consolas,'Courier New',monospace\"><span style=\"font-weight: bold\">Model: \"functional_44\"</span>\n",
       "</pre>\n"
      ],
      "text/plain": [
       "\u001b[1mModel: \"functional_44\"\u001b[0m\n"
      ]
     },
     "metadata": {},
     "output_type": "display_data"
    },
    {
     "data": {
      "text/html": [
       "<pre style=\"white-space:pre;overflow-x:auto;line-height:normal;font-family:Menlo,'DejaVu Sans Mono',consolas,'Courier New',monospace\">┏━━━━━━━━━━━━━━━━━━━━━┳━━━━━━━━━━━━━━━━━━━┳━━━━━━━━━━━━┳━━━━━━━━━━━━━━━━━━━┓\n",
       "┃<span style=\"font-weight: bold\"> Layer (type)        </span>┃<span style=\"font-weight: bold\"> Output Shape      </span>┃<span style=\"font-weight: bold\">    Param # </span>┃<span style=\"font-weight: bold\"> Connected to      </span>┃\n",
       "┡━━━━━━━━━━━━━━━━━━━━━╇━━━━━━━━━━━━━━━━━━━╇━━━━━━━━━━━━╇━━━━━━━━━━━━━━━━━━━┩\n",
       "│ input_layer_29      │ (<span style=\"color: #00d7ff; text-decoration-color: #00d7ff\">None</span>, <span style=\"color: #00af00; text-decoration-color: #00af00\">50</span>, <span style=\"color: #00af00; text-decoration-color: #00af00\">241</span>)   │          <span style=\"color: #00af00; text-decoration-color: #00af00\">0</span> │ -                 │\n",
       "│ (<span style=\"color: #0087ff; text-decoration-color: #0087ff\">InputLayer</span>)        │                   │            │                   │\n",
       "├─────────────────────┼───────────────────┼────────────┼───────────────────┤\n",
       "│ sequential_14       │ (<span style=\"color: #00d7ff; text-decoration-color: #00d7ff\">None</span>, <span style=\"color: #00af00; text-decoration-color: #00af00\">64</span>)        │     <span style=\"color: #00af00; text-decoration-color: #00af00\">27,840</span> │ input_layer_29[<span style=\"color: #00af00; text-decoration-color: #00af00\">0</span>… │\n",
       "│ (<span style=\"color: #0087ff; text-decoration-color: #0087ff\">Sequential</span>)        │                   │            │                   │\n",
       "├─────────────────────┼───────────────────┼────────────┼───────────────────┤\n",
       "│ regression_output   │ (<span style=\"color: #00d7ff; text-decoration-color: #00d7ff\">None</span>, <span style=\"color: #00af00; text-decoration-color: #00af00\">1</span>)         │         <span style=\"color: #00af00; text-decoration-color: #00af00\">65</span> │ sequential_14[<span style=\"color: #00af00; text-decoration-color: #00af00\">0</span>]… │\n",
       "│ (<span style=\"color: #0087ff; text-decoration-color: #0087ff\">Dense</span>)             │                   │            │                   │\n",
       "├─────────────────────┼───────────────────┼────────────┼───────────────────┤\n",
       "│ classification_out… │ (<span style=\"color: #00d7ff; text-decoration-color: #00d7ff\">None</span>, <span style=\"color: #00af00; text-decoration-color: #00af00\">1</span>)         │         <span style=\"color: #00af00; text-decoration-color: #00af00\">65</span> │ sequential_14[<span style=\"color: #00af00; text-decoration-color: #00af00\">0</span>]… │\n",
       "│ (<span style=\"color: #0087ff; text-decoration-color: #0087ff\">Dense</span>)             │                   │            │                   │\n",
       "└─────────────────────┴───────────────────┴────────────┴───────────────────┘\n",
       "</pre>\n"
      ],
      "text/plain": [
       "┏━━━━━━━━━━━━━━━━━━━━━┳━━━━━━━━━━━━━━━━━━━┳━━━━━━━━━━━━┳━━━━━━━━━━━━━━━━━━━┓\n",
       "┃\u001b[1m \u001b[0m\u001b[1mLayer (type)       \u001b[0m\u001b[1m \u001b[0m┃\u001b[1m \u001b[0m\u001b[1mOutput Shape     \u001b[0m\u001b[1m \u001b[0m┃\u001b[1m \u001b[0m\u001b[1m   Param #\u001b[0m\u001b[1m \u001b[0m┃\u001b[1m \u001b[0m\u001b[1mConnected to     \u001b[0m\u001b[1m \u001b[0m┃\n",
       "┡━━━━━━━━━━━━━━━━━━━━━╇━━━━━━━━━━━━━━━━━━━╇━━━━━━━━━━━━╇━━━━━━━━━━━━━━━━━━━┩\n",
       "│ input_layer_29      │ (\u001b[38;5;45mNone\u001b[0m, \u001b[38;5;34m50\u001b[0m, \u001b[38;5;34m241\u001b[0m)   │          \u001b[38;5;34m0\u001b[0m │ -                 │\n",
       "│ (\u001b[38;5;33mInputLayer\u001b[0m)        │                   │            │                   │\n",
       "├─────────────────────┼───────────────────┼────────────┼───────────────────┤\n",
       "│ sequential_14       │ (\u001b[38;5;45mNone\u001b[0m, \u001b[38;5;34m64\u001b[0m)        │     \u001b[38;5;34m27,840\u001b[0m │ input_layer_29[\u001b[38;5;34m0\u001b[0m… │\n",
       "│ (\u001b[38;5;33mSequential\u001b[0m)        │                   │            │                   │\n",
       "├─────────────────────┼───────────────────┼────────────┼───────────────────┤\n",
       "│ regression_output   │ (\u001b[38;5;45mNone\u001b[0m, \u001b[38;5;34m1\u001b[0m)         │         \u001b[38;5;34m65\u001b[0m │ sequential_14[\u001b[38;5;34m0\u001b[0m]… │\n",
       "│ (\u001b[38;5;33mDense\u001b[0m)             │                   │            │                   │\n",
       "├─────────────────────┼───────────────────┼────────────┼───────────────────┤\n",
       "│ classification_out… │ (\u001b[38;5;45mNone\u001b[0m, \u001b[38;5;34m1\u001b[0m)         │         \u001b[38;5;34m65\u001b[0m │ sequential_14[\u001b[38;5;34m0\u001b[0m]… │\n",
       "│ (\u001b[38;5;33mDense\u001b[0m)             │                   │            │                   │\n",
       "└─────────────────────┴───────────────────┴────────────┴───────────────────┘\n"
      ]
     },
     "metadata": {},
     "output_type": "display_data"
    },
    {
     "data": {
      "text/html": [
       "<pre style=\"white-space:pre;overflow-x:auto;line-height:normal;font-family:Menlo,'DejaVu Sans Mono',consolas,'Courier New',monospace\"><span style=\"font-weight: bold\"> Total params: </span><span style=\"color: #00af00; text-decoration-color: #00af00\">27,970</span> (109.26 KB)\n",
       "</pre>\n"
      ],
      "text/plain": [
       "\u001b[1m Total params: \u001b[0m\u001b[38;5;34m27,970\u001b[0m (109.26 KB)\n"
      ]
     },
     "metadata": {},
     "output_type": "display_data"
    },
    {
     "data": {
      "text/html": [
       "<pre style=\"white-space:pre;overflow-x:auto;line-height:normal;font-family:Menlo,'DejaVu Sans Mono',consolas,'Courier New',monospace\"><span style=\"font-weight: bold\"> Trainable params: </span><span style=\"color: #00af00; text-decoration-color: #00af00\">27,970</span> (109.26 KB)\n",
       "</pre>\n"
      ],
      "text/plain": [
       "\u001b[1m Trainable params: \u001b[0m\u001b[38;5;34m27,970\u001b[0m (109.26 KB)\n"
      ]
     },
     "metadata": {},
     "output_type": "display_data"
    },
    {
     "data": {
      "text/html": [
       "<pre style=\"white-space:pre;overflow-x:auto;line-height:normal;font-family:Menlo,'DejaVu Sans Mono',consolas,'Courier New',monospace\"><span style=\"font-weight: bold\"> Non-trainable params: </span><span style=\"color: #00af00; text-decoration-color: #00af00\">0</span> (0.00 B)\n",
       "</pre>\n"
      ],
      "text/plain": [
       "\u001b[1m Non-trainable params: \u001b[0m\u001b[38;5;34m0\u001b[0m (0.00 B)\n"
      ]
     },
     "metadata": {},
     "output_type": "display_data"
    },
    {
     "name": "stdout",
     "output_type": "stream",
     "text": [
      "Epoch 1/10\n",
      "\u001b[1m1544/1544\u001b[0m \u001b[32m━━━━━━━━━━━━━━━━━━━━\u001b[0m\u001b[37m\u001b[0m \u001b[1m132s\u001b[0m 82ms/step - classification_output_auc_14: 0.5726 - classification_output_binary_accuracy: 0.7666 - loss: 0.7596 - regression_output_mean_squared_error: 0.2269 - val_classification_output_auc_14: 0.5705 - val_classification_output_binary_accuracy: 0.7999 - val_loss: 0.4909 - val_regression_output_mean_squared_error: 3.1769e-04\n",
      "Epoch 2/10\n",
      "\u001b[1m1544/1544\u001b[0m \u001b[32m━━━━━━━━━━━━━━━━━━━━\u001b[0m\u001b[37m\u001b[0m \u001b[1m125s\u001b[0m 81ms/step - classification_output_auc_14: 0.6106 - classification_output_binary_accuracy: 0.8059 - loss: 0.4812 - regression_output_mean_squared_error: 3.6768e-04 - val_classification_output_auc_14: 0.5881 - val_classification_output_binary_accuracy: 0.8094 - val_loss: 0.4674 - val_regression_output_mean_squared_error: 2.9798e-04\n",
      "Epoch 3/10\n",
      "\u001b[1m1544/1544\u001b[0m \u001b[32m━━━━━━━━━━━━━━━━━━━━\u001b[0m\u001b[37m\u001b[0m \u001b[1m117s\u001b[0m 76ms/step - classification_output_auc_14: 0.6409 - classification_output_binary_accuracy: 0.8089 - loss: 0.4670 - regression_output_mean_squared_error: 4.1679e-04 - val_classification_output_auc_14: 0.5982 - val_classification_output_binary_accuracy: 0.8103 - val_loss: 0.4682 - val_regression_output_mean_squared_error: 3.1980e-04\n",
      "Epoch 4/10\n",
      "\u001b[1m1544/1544\u001b[0m \u001b[32m━━━━━━━━━━━━━━━━━━━━\u001b[0m\u001b[37m\u001b[0m \u001b[1m126s\u001b[0m 82ms/step - classification_output_auc_14: 0.6657 - classification_output_binary_accuracy: 0.8101 - loss: 0.4588 - regression_output_mean_squared_error: 4.7660e-04 - val_classification_output_auc_14: 0.6161 - val_classification_output_binary_accuracy: 0.7927 - val_loss: 0.4681 - val_regression_output_mean_squared_error: 3.1185e-04\n",
      "Epoch 5/10\n",
      "\u001b[1m1544/1544\u001b[0m \u001b[32m━━━━━━━━━━━━━━━━━━━━\u001b[0m\u001b[37m\u001b[0m \u001b[1m99s\u001b[0m 64ms/step - classification_output_auc_14: 0.6697 - classification_output_binary_accuracy: 0.8120 - loss: 0.4561 - regression_output_mean_squared_error: 5.1265e-04 - val_classification_output_auc_14: 0.6143 - val_classification_output_binary_accuracy: 0.7852 - val_loss: 0.4777 - val_regression_output_mean_squared_error: 3.0671e-04\n",
      "Epoch 6/10\n",
      "\u001b[1m1544/1544\u001b[0m \u001b[32m━━━━━━━━━━━━━━━━━━━━\u001b[0m\u001b[37m\u001b[0m \u001b[1m107s\u001b[0m 69ms/step - classification_output_auc_14: 0.6893 - classification_output_binary_accuracy: 0.8137 - loss: 0.4481 - regression_output_mean_squared_error: 4.6363e-04 - val_classification_output_auc_14: 0.6065 - val_classification_output_binary_accuracy: 0.7861 - val_loss: 0.4827 - val_regression_output_mean_squared_error: 3.1373e-04\n",
      "Epoch 7/10\n",
      "\u001b[1m1544/1544\u001b[0m \u001b[32m━━━━━━━━━━━━━━━━━━━━\u001b[0m\u001b[37m\u001b[0m \u001b[1m121s\u001b[0m 78ms/step - classification_output_auc_14: 0.6992 - classification_output_binary_accuracy: 0.8143 - loss: 0.4444 - regression_output_mean_squared_error: 4.9642e-04 - val_classification_output_auc_14: 0.6011 - val_classification_output_binary_accuracy: 0.7775 - val_loss: 0.4850 - val_regression_output_mean_squared_error: 3.1806e-04\n",
      "Epoch 8/10\n",
      "\u001b[1m1544/1544\u001b[0m \u001b[32m━━━━━━━━━━━━━━━━━━━━\u001b[0m\u001b[37m\u001b[0m \u001b[1m125s\u001b[0m 81ms/step - classification_output_auc_14: 0.7021 - classification_output_binary_accuracy: 0.8173 - loss: 0.4415 - regression_output_mean_squared_error: 4.6873e-04 - val_classification_output_auc_14: 0.5961 - val_classification_output_binary_accuracy: 0.7835 - val_loss: 0.4851 - val_regression_output_mean_squared_error: 3.3340e-04\n",
      "Epoch 9/10\n",
      "\u001b[1m1544/1544\u001b[0m \u001b[32m━━━━━━━━━━━━━━━━━━━━\u001b[0m\u001b[37m\u001b[0m \u001b[1m128s\u001b[0m 83ms/step - classification_output_auc_14: 0.6988 - classification_output_binary_accuracy: 0.8159 - loss: 0.4430 - regression_output_mean_squared_error: 4.5921e-04 - val_classification_output_auc_14: 0.5930 - val_classification_output_binary_accuracy: 0.7815 - val_loss: 0.4842 - val_regression_output_mean_squared_error: 3.3615e-04\n",
      "Epoch 10/10\n",
      "\u001b[1m1544/1544\u001b[0m \u001b[32m━━━━━━━━━━━━━━━━━━━━\u001b[0m\u001b[37m\u001b[0m \u001b[1m129s\u001b[0m 84ms/step - classification_output_auc_14: 0.7085 - classification_output_binary_accuracy: 0.8143 - loss: 0.4407 - regression_output_mean_squared_error: 4.7584e-04 - val_classification_output_auc_14: 0.6024 - val_classification_output_binary_accuracy: 0.7943 - val_loss: 0.4694 - val_regression_output_mean_squared_error: 3.5601e-04\n"
     ]
    }
   ],
   "source": [
    "# Build the RNN model\n",
    "input_shape = (sequence_length, features_train.shape[1])\n",
    "\n",
    "base_model = Sequential([\n",
    "    SimpleRNN(64, return_sequences=True, input_shape=(input_shape)),\n",
    "    Dropout(0.5),\n",
    "    SimpleRNN(64, return_sequences=False),\n",
    "    Dropout(0.25)\n",
    "])\n",
    "\n",
    "inputs = Input(shape=input_shape)\n",
    "\n",
    "x= base_model(inputs)\n",
    "regression_output = Dense(1, name='regression_output')(x)\n",
    "classification_output = Dense(1, activation='sigmoid', name='classification_output')(x)\n",
    "\n",
    "model_rnn = Model(inputs=inputs, outputs=[regression_output, classification_output])\n",
    "model_rnn.compile(optimizer='adam', \n",
    "              loss={'regression_output': 'mean_squared_error', 'classification_output': 'binary_crossentropy'},\n",
    "              metrics={'regression_output': 'mean_squared_error', 'classification_output': [tf.keras.metrics.BinaryAccuracy(), tf.keras.metrics.AUC()]})\n",
    "\n",
    "model_rnn.summary()\n",
    "\n",
    "callbacks = [keras.callbacks.EarlyStopping(patience=5, restore_best_weights=True, monitor=\"val_loss\") ]\n",
    "\n",
    "# Train the model\n",
    "history_rrn = model_rnn.fit(\n",
    "    train_dataset,\n",
    "    epochs=10,\n",
    "    validation_data=validation_dataset#,\n",
    "    callbacks=callbacks\n",
    ")\n"
   ]
  },
  {
   "cell_type": "markdown",
   "metadata": {},
   "source": []
  },
  {
   "cell_type": "markdown",
   "metadata": {},
   "source": [
    "## GRU"
   ]
  },
  {
   "cell_type": "code",
   "execution_count": 50,
   "metadata": {},
   "outputs": [
    {
     "data": {
      "text/html": [
       "<pre style=\"white-space:pre;overflow-x:auto;line-height:normal;font-family:Menlo,'DejaVu Sans Mono',consolas,'Courier New',monospace\"><span style=\"font-weight: bold\">Model: \"functional_47\"</span>\n",
       "</pre>\n"
      ],
      "text/plain": [
       "\u001b[1mModel: \"functional_47\"\u001b[0m\n"
      ]
     },
     "metadata": {},
     "output_type": "display_data"
    },
    {
     "data": {
      "text/html": [
       "<pre style=\"white-space:pre;overflow-x:auto;line-height:normal;font-family:Menlo,'DejaVu Sans Mono',consolas,'Courier New',monospace\">┏━━━━━━━━━━━━━━━━━━━━━┳━━━━━━━━━━━━━━━━━━━┳━━━━━━━━━━━━┳━━━━━━━━━━━━━━━━━━━┓\n",
       "┃<span style=\"font-weight: bold\"> Layer (type)        </span>┃<span style=\"font-weight: bold\"> Output Shape      </span>┃<span style=\"font-weight: bold\">    Param # </span>┃<span style=\"font-weight: bold\"> Connected to      </span>┃\n",
       "┡━━━━━━━━━━━━━━━━━━━━━╇━━━━━━━━━━━━━━━━━━━╇━━━━━━━━━━━━╇━━━━━━━━━━━━━━━━━━━┩\n",
       "│ input_layer_31      │ (<span style=\"color: #00d7ff; text-decoration-color: #00d7ff\">None</span>, <span style=\"color: #00af00; text-decoration-color: #00af00\">50</span>, <span style=\"color: #00af00; text-decoration-color: #00af00\">241</span>)   │          <span style=\"color: #00af00; text-decoration-color: #00af00\">0</span> │ -                 │\n",
       "│ (<span style=\"color: #0087ff; text-decoration-color: #0087ff\">InputLayer</span>)        │                   │            │                   │\n",
       "├─────────────────────┼───────────────────┼────────────┼───────────────────┤\n",
       "│ sequential_15       │ (<span style=\"color: #00d7ff; text-decoration-color: #00d7ff\">None</span>, <span style=\"color: #00af00; text-decoration-color: #00af00\">64</span>)        │     <span style=\"color: #00af00; text-decoration-color: #00af00\">83,904</span> │ input_layer_31[<span style=\"color: #00af00; text-decoration-color: #00af00\">0</span>… │\n",
       "│ (<span style=\"color: #0087ff; text-decoration-color: #0087ff\">Sequential</span>)        │                   │            │                   │\n",
       "├─────────────────────┼───────────────────┼────────────┼───────────────────┤\n",
       "│ regression_output   │ (<span style=\"color: #00d7ff; text-decoration-color: #00d7ff\">None</span>, <span style=\"color: #00af00; text-decoration-color: #00af00\">1</span>)         │         <span style=\"color: #00af00; text-decoration-color: #00af00\">65</span> │ sequential_15[<span style=\"color: #00af00; text-decoration-color: #00af00\">0</span>]… │\n",
       "│ (<span style=\"color: #0087ff; text-decoration-color: #0087ff\">Dense</span>)             │                   │            │                   │\n",
       "├─────────────────────┼───────────────────┼────────────┼───────────────────┤\n",
       "│ classification_out… │ (<span style=\"color: #00d7ff; text-decoration-color: #00d7ff\">None</span>, <span style=\"color: #00af00; text-decoration-color: #00af00\">1</span>)         │         <span style=\"color: #00af00; text-decoration-color: #00af00\">65</span> │ sequential_15[<span style=\"color: #00af00; text-decoration-color: #00af00\">0</span>]… │\n",
       "│ (<span style=\"color: #0087ff; text-decoration-color: #0087ff\">Dense</span>)             │                   │            │                   │\n",
       "└─────────────────────┴───────────────────┴────────────┴───────────────────┘\n",
       "</pre>\n"
      ],
      "text/plain": [
       "┏━━━━━━━━━━━━━━━━━━━━━┳━━━━━━━━━━━━━━━━━━━┳━━━━━━━━━━━━┳━━━━━━━━━━━━━━━━━━━┓\n",
       "┃\u001b[1m \u001b[0m\u001b[1mLayer (type)       \u001b[0m\u001b[1m \u001b[0m┃\u001b[1m \u001b[0m\u001b[1mOutput Shape     \u001b[0m\u001b[1m \u001b[0m┃\u001b[1m \u001b[0m\u001b[1m   Param #\u001b[0m\u001b[1m \u001b[0m┃\u001b[1m \u001b[0m\u001b[1mConnected to     \u001b[0m\u001b[1m \u001b[0m┃\n",
       "┡━━━━━━━━━━━━━━━━━━━━━╇━━━━━━━━━━━━━━━━━━━╇━━━━━━━━━━━━╇━━━━━━━━━━━━━━━━━━━┩\n",
       "│ input_layer_31      │ (\u001b[38;5;45mNone\u001b[0m, \u001b[38;5;34m50\u001b[0m, \u001b[38;5;34m241\u001b[0m)   │          \u001b[38;5;34m0\u001b[0m │ -                 │\n",
       "│ (\u001b[38;5;33mInputLayer\u001b[0m)        │                   │            │                   │\n",
       "├─────────────────────┼───────────────────┼────────────┼───────────────────┤\n",
       "│ sequential_15       │ (\u001b[38;5;45mNone\u001b[0m, \u001b[38;5;34m64\u001b[0m)        │     \u001b[38;5;34m83,904\u001b[0m │ input_layer_31[\u001b[38;5;34m0\u001b[0m… │\n",
       "│ (\u001b[38;5;33mSequential\u001b[0m)        │                   │            │                   │\n",
       "├─────────────────────┼───────────────────┼────────────┼───────────────────┤\n",
       "│ regression_output   │ (\u001b[38;5;45mNone\u001b[0m, \u001b[38;5;34m1\u001b[0m)         │         \u001b[38;5;34m65\u001b[0m │ sequential_15[\u001b[38;5;34m0\u001b[0m]… │\n",
       "│ (\u001b[38;5;33mDense\u001b[0m)             │                   │            │                   │\n",
       "├─────────────────────┼───────────────────┼────────────┼───────────────────┤\n",
       "│ classification_out… │ (\u001b[38;5;45mNone\u001b[0m, \u001b[38;5;34m1\u001b[0m)         │         \u001b[38;5;34m65\u001b[0m │ sequential_15[\u001b[38;5;34m0\u001b[0m]… │\n",
       "│ (\u001b[38;5;33mDense\u001b[0m)             │                   │            │                   │\n",
       "└─────────────────────┴───────────────────┴────────────┴───────────────────┘\n"
      ]
     },
     "metadata": {},
     "output_type": "display_data"
    },
    {
     "data": {
      "text/html": [
       "<pre style=\"white-space:pre;overflow-x:auto;line-height:normal;font-family:Menlo,'DejaVu Sans Mono',consolas,'Courier New',monospace\"><span style=\"font-weight: bold\"> Total params: </span><span style=\"color: #00af00; text-decoration-color: #00af00\">84,034</span> (328.26 KB)\n",
       "</pre>\n"
      ],
      "text/plain": [
       "\u001b[1m Total params: \u001b[0m\u001b[38;5;34m84,034\u001b[0m (328.26 KB)\n"
      ]
     },
     "metadata": {},
     "output_type": "display_data"
    },
    {
     "data": {
      "text/html": [
       "<pre style=\"white-space:pre;overflow-x:auto;line-height:normal;font-family:Menlo,'DejaVu Sans Mono',consolas,'Courier New',monospace\"><span style=\"font-weight: bold\"> Trainable params: </span><span style=\"color: #00af00; text-decoration-color: #00af00\">84,034</span> (328.26 KB)\n",
       "</pre>\n"
      ],
      "text/plain": [
       "\u001b[1m Trainable params: \u001b[0m\u001b[38;5;34m84,034\u001b[0m (328.26 KB)\n"
      ]
     },
     "metadata": {},
     "output_type": "display_data"
    },
    {
     "data": {
      "text/html": [
       "<pre style=\"white-space:pre;overflow-x:auto;line-height:normal;font-family:Menlo,'DejaVu Sans Mono',consolas,'Courier New',monospace\"><span style=\"font-weight: bold\"> Non-trainable params: </span><span style=\"color: #00af00; text-decoration-color: #00af00\">0</span> (0.00 B)\n",
       "</pre>\n"
      ],
      "text/plain": [
       "\u001b[1m Non-trainable params: \u001b[0m\u001b[38;5;34m0\u001b[0m (0.00 B)\n"
      ]
     },
     "metadata": {},
     "output_type": "display_data"
    },
    {
     "name": "stdout",
     "output_type": "stream",
     "text": [
      "Epoch 1/10\n",
      "\u001b[1m1544/1544\u001b[0m \u001b[32m━━━━━━━━━━━━━━━━━━━━\u001b[0m\u001b[37m\u001b[0m \u001b[1m393s\u001b[0m 251ms/step - classification_output_auc_15: 0.5974 - classification_output_binary_accuracy: 0.7926 - loss: 0.5694 - regression_output_mean_squared_error: 0.0724 - val_classification_output_auc_15: 0.5941 - val_classification_output_binary_accuracy: 0.8201 - val_loss: 0.4567 - val_regression_output_mean_squared_error: 4.7164e-04\n",
      "Epoch 2/10\n",
      "\u001b[1m1544/1544\u001b[0m \u001b[32m━━━━━━━━━━━━━━━━━━━━\u001b[0m\u001b[37m\u001b[0m \u001b[1m380s\u001b[0m 246ms/step - classification_output_auc_15: 0.6363 - classification_output_binary_accuracy: 0.8090 - loss: 0.4698 - regression_output_mean_squared_error: 9.7114e-04 - val_classification_output_auc_15: 0.5957 - val_classification_output_binary_accuracy: 0.8068 - val_loss: 0.4632 - val_regression_output_mean_squared_error: 3.2955e-04\n",
      "Epoch 3/10\n",
      "\u001b[1m1544/1544\u001b[0m \u001b[32m━━━━━━━━━━━━━━━━━━━━\u001b[0m\u001b[37m\u001b[0m \u001b[1m398s\u001b[0m 258ms/step - classification_output_auc_15: 0.6864 - classification_output_binary_accuracy: 0.8136 - loss: 0.4496 - regression_output_mean_squared_error: 3.7229e-04 - val_classification_output_auc_15: 0.5987 - val_classification_output_binary_accuracy: 0.7867 - val_loss: 0.4816 - val_regression_output_mean_squared_error: 3.3053e-04\n",
      "Epoch 4/10\n",
      "\u001b[1m1544/1544\u001b[0m \u001b[32m━━━━━━━━━━━━━━━━━━━━\u001b[0m\u001b[37m\u001b[0m \u001b[1m391s\u001b[0m 253ms/step - classification_output_auc_15: 0.7081 - classification_output_binary_accuracy: 0.8207 - loss: 0.4369 - regression_output_mean_squared_error: 4.1508e-04 - val_classification_output_auc_15: 0.6038 - val_classification_output_binary_accuracy: 0.7945 - val_loss: 0.4831 - val_regression_output_mean_squared_error: 3.1539e-04\n",
      "Epoch 5/10\n",
      "\u001b[1m1544/1544\u001b[0m \u001b[32m━━━━━━━━━━━━━━━━━━━━\u001b[0m\u001b[37m\u001b[0m \u001b[1m391s\u001b[0m 253ms/step - classification_output_auc_15: 0.7237 - classification_output_binary_accuracy: 0.8244 - loss: 0.4276 - regression_output_mean_squared_error: 4.1550e-04 - val_classification_output_auc_15: 0.6009 - val_classification_output_binary_accuracy: 0.7981 - val_loss: 0.4836 - val_regression_output_mean_squared_error: 3.1816e-04\n",
      "Epoch 6/10\n",
      "\u001b[1m1544/1544\u001b[0m \u001b[32m━━━━━━━━━━━━━━━━━━━━\u001b[0m\u001b[37m\u001b[0m \u001b[1m393s\u001b[0m 255ms/step - classification_output_auc_15: 0.7375 - classification_output_binary_accuracy: 0.8289 - loss: 0.4194 - regression_output_mean_squared_error: 4.0163e-04 - val_classification_output_auc_15: 0.5975 - val_classification_output_binary_accuracy: 0.8082 - val_loss: 0.4782 - val_regression_output_mean_squared_error: 3.2049e-04\n",
      "Epoch 7/10\n",
      "\u001b[1m1544/1544\u001b[0m \u001b[32m━━━━━━━━━━━━━━━━━━━━\u001b[0m\u001b[37m\u001b[0m \u001b[1m398s\u001b[0m 258ms/step - classification_output_auc_15: 0.7522 - classification_output_binary_accuracy: 0.8301 - loss: 0.4125 - regression_output_mean_squared_error: 3.8849e-04 - val_classification_output_auc_15: 0.6207 - val_classification_output_binary_accuracy: 0.7976 - val_loss: 0.4889 - val_regression_output_mean_squared_error: 3.2034e-04\n",
      "Epoch 8/10\n",
      "\u001b[1m1544/1544\u001b[0m \u001b[32m━━━━━━━━━━━━━━━━━━━━\u001b[0m\u001b[37m\u001b[0m \u001b[1m425s\u001b[0m 275ms/step - classification_output_auc_15: 0.7630 - classification_output_binary_accuracy: 0.8335 - loss: 0.4054 - regression_output_mean_squared_error: 3.8369e-04 - val_classification_output_auc_15: 0.5969 - val_classification_output_binary_accuracy: 0.8018 - val_loss: 0.4960 - val_regression_output_mean_squared_error: 3.2896e-04\n",
      "Epoch 9/10\n",
      "\u001b[1m1544/1544\u001b[0m \u001b[32m━━━━━━━━━━━━━━━━━━━━\u001b[0m\u001b[37m\u001b[0m \u001b[1m425s\u001b[0m 275ms/step - classification_output_auc_15: 0.7827 - classification_output_binary_accuracy: 0.8397 - loss: 0.3918 - regression_output_mean_squared_error: 3.8276e-04 - val_classification_output_auc_15: 0.6040 - val_classification_output_binary_accuracy: 0.7874 - val_loss: 0.5238 - val_regression_output_mean_squared_error: 3.2946e-04\n",
      "Epoch 10/10\n",
      "\u001b[1m1544/1544\u001b[0m \u001b[32m━━━━━━━━━━━━━━━━━━━━\u001b[0m\u001b[37m\u001b[0m \u001b[1m432s\u001b[0m 280ms/step - classification_output_auc_15: 0.7895 - classification_output_binary_accuracy: 0.8396 - loss: 0.3880 - regression_output_mean_squared_error: 3.8297e-04 - val_classification_output_auc_15: 0.6119 - val_classification_output_binary_accuracy: 0.7986 - val_loss: 0.5085 - val_regression_output_mean_squared_error: 3.3435e-04\n"
     ]
    }
   ],
   "source": [
    "# Build the GRU model\n",
    "input_shape = (sequence_length, features_train.shape[1])\n",
    "\n",
    "base_model = Sequential([\n",
    "    GRU(64, return_sequences=True, input_shape=(input_shape)),\n",
    "    Dropout(0.5),\n",
    "    GRU(64, return_sequences=False),\n",
    "    Dropout(0.25)\n",
    "])\n",
    "\n",
    "inputs = Input(shape=input_shape)\n",
    "\n",
    "x= base_model(inputs)\n",
    "regression_output = Dense(1, name='regression_output')(x)\n",
    "classification_output = Dense(1, activation='sigmoid', name='classification_output')(x)\n",
    "\n",
    "model_gru = Model(inputs=inputs, outputs=[regression_output, classification_output])\n",
    "model_gru.compile(optimizer='adam', \n",
    "              loss={'regression_output': 'mean_squared_error', 'classification_output': 'binary_crossentropy'},\n",
    "              metrics={'regression_output': 'mean_squared_error', 'classification_output': [tf.keras.metrics.BinaryAccuracy(), tf.keras.metrics.AUC()]})\n",
    "\n",
    "model_gru.summary()\n",
    "\n",
    "callbacks = [ keras.callbacks.EarlyStopping(patience=5, restore_best_weights=True, monitor=\"val_loss\") ]\n",
    "\n",
    "# Train the model\n",
    "history_gru= model_gru.fit(\n",
    "    train_dataset,\n",
    "    epochs=10,\n",
    "    validation_data=validation_dataset#,\n",
    "    callbacks = callbacks\n",
    ")"
   ]
  },
  {
   "cell_type": "markdown",
   "metadata": {},
   "source": [
    "# Evaluate Models"
   ]
  },
  {
   "cell_type": "code",
   "execution_count": 51,
   "metadata": {},
   "outputs": [
    {
     "name": "stdout",
     "output_type": "stream",
     "text": [
      "\u001b[1m193/193\u001b[0m \u001b[32m━━━━━━━━━━━━━━━━━━━━\u001b[0m\u001b[37m\u001b[0m \u001b[1m19s\u001b[0m 99ms/step - classification_output_auc_13: 0.7229 - classification_output_binary_accuracy: 0.7919 - loss: 0.4546 - regression_output_mean_squared_error: 3.0638e-04\n",
      "Holdout set evaluation: [0.4815775156021118, 0.6990005970001221, 0.7846166491508484, 0.00031852396205067635]\n"
     ]
    }
   ],
   "source": [
    "# Evaluate on holdout set\n",
    "holdout_eval_lstm = model_lstm.evaluate(holdout_dataset)\n",
    "print(f\"Holdout set evaluation: {holdout_eval_lstm}\")"
   ]
  },
  {
   "cell_type": "code",
   "execution_count": 52,
   "metadata": {},
   "outputs": [
    {
     "name": "stdout",
     "output_type": "stream",
     "text": [
      "\u001b[1m193/193\u001b[0m \u001b[32m━━━━━━━━━━━━━━━━━━━━\u001b[0m\u001b[37m\u001b[0m \u001b[1m9s\u001b[0m 48ms/step - classification_output_auc_14: 0.6774 - classification_output_binary_accuracy: 0.7685 - loss: 0.4870 - regression_output_mean_squared_error: 3.8608e-04\n",
      "Holdout set evaluation: [0.5284311771392822, 0.6422044038772583, 0.7329062223434448, 0.00043501719483174384]\n"
     ]
    }
   ],
   "source": [
    "\n",
    "# Evaluate on holdout set\n",
    "holdout_eval_rrn = model_rnn.evaluate(holdout_dataset)\n",
    "print(f\"Holdout set evaluation: {holdout_eval_rrn}\")"
   ]
  },
  {
   "cell_type": "code",
   "execution_count": 53,
   "metadata": {},
   "outputs": [
    {
     "name": "stdout",
     "output_type": "stream",
     "text": [
      "\u001b[1m193/193\u001b[0m \u001b[32m━━━━━━━━━━━━━━━━━━━━\u001b[0m\u001b[37m\u001b[0m \u001b[1m21s\u001b[0m 107ms/step - classification_output_auc_15: 0.6917 - classification_output_binary_accuracy: 0.7698 - loss: 0.4975 - regression_output_mean_squared_error: 3.4840e-04\n",
      "Holdout set evaluation: [0.5255452394485474, 0.6708288192749023, 0.7648118138313293, 0.000367813219781965]\n"
     ]
    }
   ],
   "source": [
    "# Evaluate on holdout set\n",
    "holdout_eval_gru = model_gru.evaluate(holdout_dataset)\n",
    "print(f\"Holdout set evaluation: {holdout_eval_gru}\")"
   ]
  },
  {
   "cell_type": "markdown",
   "metadata": {},
   "source": [
    "# Save Models"
   ]
  },
  {
   "cell_type": "code",
   "execution_count": 54,
   "metadata": {},
   "outputs": [],
   "source": [
    "# Save the models\n",
    "model_gru.save('model_gru.keras')\n",
    "model_lstm.save('model_lstm.keras')\n",
    "model_rnn.save('model_rrn.keras')"
   ]
  },
  {
   "cell_type": "markdown",
   "metadata": {},
   "source": [
    "# Graphs"
   ]
  },
  {
   "cell_type": "code",
   "execution_count": 60,
   "metadata": {},
   "outputs": [
    {
     "name": "stdout",
     "output_type": "stream",
     "text": [
      "\u001b[1m193/193\u001b[0m \u001b[32m━━━━━━━━━━━━━━━━━━━━\u001b[0m\u001b[37m\u001b[0m \u001b[1m11s\u001b[0m 59ms/step\n",
      "\u001b[1m193/193\u001b[0m \u001b[32m━━━━━━━━━━━━━━━━━━━━\u001b[0m\u001b[37m\u001b[0m \u001b[1m6s\u001b[0m 31ms/step\n"
     ]
    },
    {
     "data": {
      "image/png": "[encoded data removed]",
      "text/plain": [
       "<Figure size 800x600 with 1 Axes>"
      ]
     },
     "metadata": {},
     "output_type": "display_data"
    }
   ],
   "source": [
    "import matplotlib.pyplot as plt\n",
    "from sklearn.metrics import roc_curve, auc\n",
    "\n",
    "\n",
    "# LSTM model ROC AUC curve\n",
    "y_pred_lstm = model_lstm.predict(holdout_dataset)\n",
    "fpr_lstm, tpr_lstm, _ = roc_curve(target_class_holdout[sequence_length - 1:], y_pred_lstm[1])\n",
    "roc_auc_lstm = auc(fpr_lstm, tpr_lstm)\n",
    "\n",
    "# RNN model ROC AUC curve\n",
    "y_pred_rnn = model_rnn.predict(holdout_dataset)\n",
    "fpr_rnn, tpr_rnn, _ = roc_curve(target_class_holdout[sequence_length - 1:], y_pred_rnn[1])\n",
    "roc_auc_rnn = auc(fpr_rnn, tpr_rnn)\n",
    "\n",
    "# Plot ROC AUC curves\n",
    "plt.figure(figsize=(8, 6))\n",
    "plt.plot(fpr_lstm, tpr_lstm, color='blue', lw=2, label=f'LSTM (AUC = {roc_auc_lstm:.2f})')\n",
    "plt.plot(fpr_rnn, tpr_rnn, color='red', lw=2, label=f'RNN (AUC = {roc_auc_rnn:.2f})')\n",
    "plt.plot([0, 1], [0, 1], color='black', lw=1, linestyle='--')\n",
    "plt.xlim([0.0, 1.0])\n",
    "plt.ylim([0.0, 1.05])\n",
    "plt.xlabel('False Positive Rate')\n",
    "plt.ylabel('True Positive Rate')\n",
    "plt.title('ROC AUC Curve')\n",
    "plt.legend(loc=\"lower right\")\n",
    "plt.show()"
   ]
  },
  {
   "cell_type": "code",
   "execution_count": 57,
   "metadata": {},
   "outputs": [
    {
     "name": "stdout",
     "output_type": "stream",
     "text": [
      "\u001b[1m193/193\u001b[0m \u001b[32m━━━━━━━━━━━━━━━━━━━━\u001b[0m\u001b[37m\u001b[0m \u001b[1m13s\u001b[0m 67ms/step\n"
     ]
    },
    {
     "data": {
      "text/plain": [
       "array([[0.05342983],\n",
       "       [0.04990461],\n",
       "       [0.04932946],\n",
       "       ...,\n",
       "       [0.0663072 ],\n",
       "       [0.06714711],\n",
       "       [0.0661488 ]], dtype=float32)"
      ]
     },
     "execution_count": 57,
     "metadata": {},
     "output_type": "execute_result"
    }
   ],
   "source": [
    "model_gru.predict(holdout_dataset)[1]"
   ]
  }
 ],
 "metadata": {
  "kernelspec": {
   "display_name": "apa",
   "language": "python",
   "name": "python3"
  },
  "language_info": {
   "codemirror_mode": {
    "name": "ipython",
    "version": 3
   },
   "file_extension": ".py",
   "mimetype": "text/x-python",
   "name": "python",
   "nbconvert_exporter": "python",
   "pygments_lexer": "ipython3",
   "version": "3.10.13"
  }
 },
 "nbformat": 4,
 "nbformat_minor": 2
}
